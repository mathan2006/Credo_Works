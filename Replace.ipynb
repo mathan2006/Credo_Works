{
 "cells": [
  {
   "cell_type": "code",
   "execution_count": 7,
   "metadata": {},
   "outputs": [],
   "source": [
    "import pandas as pd\n",
    "import re"
   ]
  },
  {
   "cell_type": "code",
   "execution_count": 8,
   "metadata": {},
   "outputs": [],
   "source": [
    "documents = pd.read_csv('Comments.csv', header=None)\n",
    "src_dict = pd.read_csv('Dict.csv', header=None)"
   ]
  },
  {
   "cell_type": "code",
   "execution_count": 9,
   "metadata": {},
   "outputs": [
    {
     "data": {
      "text/plain": [
       "{'SP': 'Story Point',\n",
       " 'dx': 'Diagnosis',\n",
       " 'lgtm': 'Looks Good to Me',\n",
       " 'HH': 'HomeHealth',\n",
       " 'Hos': 'Hospice',\n",
       " 'NPE': 'Null Pointer Exception',\n",
       " 'ES': 'ElasticSearch',\n",
       " 'config': 'Configuration',\n",
       " 'AC': 'Acceptance Criteria',\n",
       " 'Env': 'Environment'}"
      ]
     },
     "execution_count": 9,
     "metadata": {},
     "output_type": "execute_result"
    }
   ],
   "source": [
    "doc_dict = {}\n",
    "for dict_index, dict_row in src_dict.iterrows(): \n",
    "    doc_dict[dict_row[0]] = dict_row[1]\n",
    "doc_dict"
   ]
  },
  {
   "cell_type": "code",
   "execution_count": 10,
   "metadata": {},
   "outputs": [],
   "source": [
    "final_doc = []\n",
    "for doc_index, doc_row in documents.iterrows():\n",
    "    doc = ' ' + doc_row[0] + ' '\n",
    "    for key in doc_dict:\n",
    "        insensitive_key = re.compile(re.escape(' ' + key + ' '), re.IGNORECASE)\n",
    "        doc = insensitive_key.sub(' ' + doc_dict[key] + ' ', doc)\n",
    "    final_doc.append(doc.strip())"
   ]
  },
  {
   "cell_type": "code",
   "execution_count": 11,
   "metadata": {},
   "outputs": [
    {
     "data": {
      "text/plain": [
       "['Needs 5 Story Point',\n",
       " 'Total 25 Diagnosis codes needed',\n",
       " 'Configuration not enabled',\n",
       " 'It is Looks Good to Me',\n",
       " 'Works same for HomeHealth and Hospice Patients',\n",
       " 'Only for HomeHealth Patients',\n",
       " 'Getting Null Pointer Exception while loading page',\n",
       " 'To load when ElasticSearch Configuration us enabled',\n",
       " 'Pleas add Acceptance Criteria to ticket',\n",
       " 'Deploy changes in test Environment']"
      ]
     },
     "execution_count": 11,
     "metadata": {},
     "output_type": "execute_result"
    }
   ],
   "source": [
    "final_doc"
   ]
  },
  {
   "cell_type": "code",
   "execution_count": 12,
   "metadata": {},
   "outputs": [],
   "source": [
    "replaced_doc = {'Docs' : final_doc}"
   ]
  },
  {
   "cell_type": "code",
   "execution_count": 13,
   "metadata": {},
   "outputs": [],
   "source": [
    "pd.DataFrame(replaced_doc).to_csv('replaced_doc.csv', header=False, index=False)"
   ]
  },
  {
   "cell_type": "code",
   "execution_count": null,
   "metadata": {},
   "outputs": [],
   "source": []
  }
 ],
 "metadata": {
  "kernelspec": {
   "display_name": "Python 3",
   "language": "python",
   "name": "python3"
  },
  "language_info": {
   "codemirror_mode": {
    "name": "ipython",
    "version": 3
   },
   "file_extension": ".py",
   "mimetype": "text/x-python",
   "name": "python",
   "nbconvert_exporter": "python",
   "pygments_lexer": "ipython3",
   "version": "3.7.3"
  }
 },
 "nbformat": 4,
 "nbformat_minor": 2
}
