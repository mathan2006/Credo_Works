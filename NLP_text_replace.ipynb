{
 "cells": [
  {
   "cell_type": "code",
   "execution_count": 121,
   "metadata": {},
   "outputs": [],
   "source": [
    "#from nltk.tokenize import word_tokenize\n",
    "import pandas as pd"
   ]
  },
  {
   "cell_type": "code",
   "execution_count": 122,
   "metadata": {},
   "outputs": [],
   "source": [
    "data=pd.read_excel(\"C:\\\\Mathan\\\\Data Science\\\\Assignments.xls\",sheet_name=\"NLP\")"
   ]
  },
  {
   "cell_type": "code",
   "execution_count": 123,
   "metadata": {},
   "outputs": [
    {
     "data": {
      "text/html": [
       "<div>\n",
       "<style scoped>\n",
       "    .dataframe tbody tr th:only-of-type {\n",
       "        vertical-align: middle;\n",
       "    }\n",
       "\n",
       "    .dataframe tbody tr th {\n",
       "        vertical-align: top;\n",
       "    }\n",
       "\n",
       "    .dataframe thead th {\n",
       "        text-align: right;\n",
       "    }\n",
       "</style>\n",
       "<table border=\"1\" class=\"dataframe\">\n",
       "  <thead>\n",
       "    <tr style=\"text-align: right;\">\n",
       "      <th></th>\n",
       "      <th>Word</th>\n",
       "      <th>Replace</th>\n",
       "      <th>Unnamed: 2</th>\n",
       "      <th>Remarks</th>\n",
       "      <th>Output</th>\n",
       "    </tr>\n",
       "  </thead>\n",
       "  <tbody>\n",
       "    <tr>\n",
       "      <th>0</th>\n",
       "      <td>cxt</td>\n",
       "      <td>customer</td>\n",
       "      <td>NaN</td>\n",
       "      <td>cust called shop</td>\n",
       "      <td>NaN</td>\n",
       "    </tr>\n",
       "    <tr>\n",
       "      <th>1</th>\n",
       "      <td>cust</td>\n",
       "      <td>customer</td>\n",
       "      <td>NaN</td>\n",
       "      <td>cxt is frustrated</td>\n",
       "      <td>NaN</td>\n",
       "    </tr>\n",
       "    <tr>\n",
       "      <th>2</th>\n",
       "      <td>client</td>\n",
       "      <td>customer</td>\n",
       "      <td>NaN</td>\n",
       "      <td>client is very excited</td>\n",
       "      <td>NaN</td>\n",
       "    </tr>\n",
       "    <tr>\n",
       "      <th>3</th>\n",
       "      <td>customers</td>\n",
       "      <td>customer</td>\n",
       "      <td>NaN</td>\n",
       "      <td>customers went away</td>\n",
       "      <td>NaN</td>\n",
       "    </tr>\n",
       "    <tr>\n",
       "      <th>4</th>\n",
       "      <td>custs</td>\n",
       "      <td>customer</td>\n",
       "      <td>NaN</td>\n",
       "      <td>custs feedback is important</td>\n",
       "      <td>NaN</td>\n",
       "    </tr>\n",
       "  </tbody>\n",
       "</table>\n",
       "</div>"
      ],
      "text/plain": [
       "        Word   Replace  Unnamed: 2                      Remarks  Output\n",
       "0        cxt  customer         NaN             cust called shop     NaN\n",
       "1       cust  customer         NaN            cxt is frustrated     NaN\n",
       "2     client  customer         NaN       client is very excited     NaN\n",
       "3  customers  customer         NaN          customers went away     NaN\n",
       "4      custs  customer         NaN  custs feedback is important     NaN"
      ]
     },
     "execution_count": 123,
     "metadata": {},
     "output_type": "execute_result"
    }
   ],
   "source": [
    "data.head()"
   ]
  },
  {
   "cell_type": "code",
   "execution_count": 124,
   "metadata": {},
   "outputs": [
    {
     "data": {
      "text/html": [
       "<div>\n",
       "<style scoped>\n",
       "    .dataframe tbody tr th:only-of-type {\n",
       "        vertical-align: middle;\n",
       "    }\n",
       "\n",
       "    .dataframe tbody tr th {\n",
       "        vertical-align: top;\n",
       "    }\n",
       "\n",
       "    .dataframe thead th {\n",
       "        text-align: right;\n",
       "    }\n",
       "</style>\n",
       "<table border=\"1\" class=\"dataframe\">\n",
       "  <thead>\n",
       "    <tr style=\"text-align: right;\">\n",
       "      <th></th>\n",
       "      <th>Word</th>\n",
       "      <th>Replace</th>\n",
       "    </tr>\n",
       "  </thead>\n",
       "  <tbody>\n",
       "    <tr>\n",
       "      <th>0</th>\n",
       "      <td>cxt</td>\n",
       "      <td>customer</td>\n",
       "    </tr>\n",
       "    <tr>\n",
       "      <th>1</th>\n",
       "      <td>cust</td>\n",
       "      <td>customer</td>\n",
       "    </tr>\n",
       "    <tr>\n",
       "      <th>2</th>\n",
       "      <td>client</td>\n",
       "      <td>customer</td>\n",
       "    </tr>\n",
       "    <tr>\n",
       "      <th>3</th>\n",
       "      <td>customers</td>\n",
       "      <td>customer</td>\n",
       "    </tr>\n",
       "    <tr>\n",
       "      <th>4</th>\n",
       "      <td>custs</td>\n",
       "      <td>customer</td>\n",
       "    </tr>\n",
       "  </tbody>\n",
       "</table>\n",
       "</div>"
      ],
      "text/plain": [
       "        Word   Replace\n",
       "0        cxt  customer\n",
       "1       cust  customer\n",
       "2     client  customer\n",
       "3  customers  customer\n",
       "4      custs  customer"
      ]
     },
     "execution_count": 124,
     "metadata": {},
     "output_type": "execute_result"
    }
   ],
   "source": [
    "df=pd.DataFrame(data,columns=['Word','Replace'])\n",
    "df"
   ]
  },
  {
   "cell_type": "code",
   "execution_count": 125,
   "metadata": {},
   "outputs": [
    {
     "data": {
      "text/plain": [
       "{'Replace': {'cxt': 'customer',\n",
       "  'cust': 'customer',\n",
       "  'client': 'customer',\n",
       "  'customers': 'customer',\n",
       "  'custs': 'customer'}}"
      ]
     },
     "execution_count": 125,
     "metadata": {},
     "output_type": "execute_result"
    }
   ],
   "source": [
    "df_dict=df.set_index('Word').to_dict()\n",
    "df_dict"
   ]
  },
  {
   "cell_type": "code",
   "execution_count": 126,
   "metadata": {},
   "outputs": [
    {
     "data": {
      "text/plain": [
       "{'cxt': 'customer',\n",
       " 'cust': 'customer',\n",
       " 'client': 'customer',\n",
       " 'customers': 'customer',\n",
       " 'custs': 'customer'}"
      ]
     },
     "execution_count": 126,
     "metadata": {},
     "output_type": "execute_result"
    }
   ],
   "source": [
    "dic={}\n",
    "for key,val in df.iterrows():\n",
    "    dic[val[0]]=val[1]\n",
    "dic"
   ]
  },
  {
   "cell_type": "code",
   "execution_count": 127,
   "metadata": {},
   "outputs": [],
   "source": [
    "strtext=data['Remarks'].values.tolist()"
   ]
  },
  {
   "cell_type": "code",
   "execution_count": 128,
   "metadata": {},
   "outputs": [
    {
     "data": {
      "text/plain": [
       "['cust called shop',\n",
       " 'cxt is frustrated',\n",
       " 'client is very excited',\n",
       " 'customers went away',\n",
       " 'custs feedback is important']"
      ]
     },
     "execution_count": 128,
     "metadata": {},
     "output_type": "execute_result"
    }
   ],
   "source": [
    "strtext"
   ]
  },
  {
   "cell_type": "code",
   "execution_count": 129,
   "metadata": {},
   "outputs": [
    {
     "data": {
      "text/html": [
       "<div>\n",
       "<style scoped>\n",
       "    .dataframe tbody tr th:only-of-type {\n",
       "        vertical-align: middle;\n",
       "    }\n",
       "\n",
       "    .dataframe tbody tr th {\n",
       "        vertical-align: top;\n",
       "    }\n",
       "\n",
       "    .dataframe thead th {\n",
       "        text-align: right;\n",
       "    }\n",
       "</style>\n",
       "<table border=\"1\" class=\"dataframe\">\n",
       "  <thead>\n",
       "    <tr style=\"text-align: right;\">\n",
       "      <th></th>\n",
       "      <th>Remarks</th>\n",
       "    </tr>\n",
       "  </thead>\n",
       "  <tbody>\n",
       "    <tr>\n",
       "      <th>0</th>\n",
       "      <td>cust called shop</td>\n",
       "    </tr>\n",
       "    <tr>\n",
       "      <th>1</th>\n",
       "      <td>cxt is frustrated</td>\n",
       "    </tr>\n",
       "    <tr>\n",
       "      <th>2</th>\n",
       "      <td>client is very excited</td>\n",
       "    </tr>\n",
       "    <tr>\n",
       "      <th>3</th>\n",
       "      <td>customers went away</td>\n",
       "    </tr>\n",
       "    <tr>\n",
       "      <th>4</th>\n",
       "      <td>custs feedback is important</td>\n",
       "    </tr>\n",
       "  </tbody>\n",
       "</table>\n",
       "</div>"
      ],
      "text/plain": [
       "                       Remarks\n",
       "0             cust called shop\n",
       "1            cxt is frustrated\n",
       "2       client is very excited\n",
       "3          customers went away\n",
       "4  custs feedback is important"
      ]
     },
     "execution_count": 129,
     "metadata": {},
     "output_type": "execute_result"
    }
   ],
   "source": [
    "feed=pd.DataFrame(data,columns=['Remarks'])\n",
    "feed"
   ]
  },
  {
   "cell_type": "code",
   "execution_count": 130,
   "metadata": {},
   "outputs": [],
   "source": [
    "import re\n",
    "res=[]\n",
    "for idx1,row in feed.iterrows():\n",
    "    newtxt=' '+row[0]+' '\n",
    "    for key in dic:\n",
    "        inkey=re.compile(re.escape(' '+key+' '),re.IGNORECASE)\n",
    "        newtxt=inkey.sub(' '+dic[key]+' ',newtxt)\n",
    "    res.append(newtxt.strip())"
   ]
  },
  {
   "cell_type": "code",
   "execution_count": 131,
   "metadata": {},
   "outputs": [
    {
     "data": {
      "text/plain": [
       "['customer called shop',\n",
       " 'customer is frustrated',\n",
       " 'customer is very excited',\n",
       " 'customer went away',\n",
       " 'customer feedback is important']"
      ]
     },
     "execution_count": 131,
     "metadata": {},
     "output_type": "execute_result"
    }
   ],
   "source": [
    "res"
   ]
  },
  {
   "cell_type": "code",
   "execution_count": 132,
   "metadata": {},
   "outputs": [
    {
     "name": "stdout",
     "output_type": "stream",
     "text": [
      "customer called shop\n",
      "customer is frustrated\n",
      "customer is very excited\n",
      "customer went away\n",
      "customer feedback is important\n"
     ]
    }
   ],
   "source": [
    "for line in res:\n",
    "    print(line)\n",
    "    data['Output']=line"
   ]
  },
  {
   "cell_type": "code",
   "execution_count": 133,
   "metadata": {},
   "outputs": [
    {
     "name": "stdout",
     "output_type": "stream",
     "text": [
      "customer feedback is important\n",
      "customer feedback is important\n",
      "customer feedback is important\n",
      "customer feedback is important\n",
      "customer feedback is important\n"
     ]
    },
    {
     "name": "stderr",
     "output_type": "stream",
     "text": [
      "C:\\Anaconda\\lib\\site-packages\\ipykernel_launcher.py:3: SettingWithCopyWarning: \n",
      "A value is trying to be set on a copy of a slice from a DataFrame\n",
      "\n",
      "See the caveats in the documentation: http://pandas.pydata.org/pandas-docs/stable/indexing.html#indexing-view-versus-copy\n",
      "  This is separate from the ipykernel package so we can avoid doing imports until\n"
     ]
    }
   ],
   "source": [
    "for key,val in data['Output'].iteritems():\n",
    "    print(val)\n",
    "    data['Output'][key]=res[key]"
   ]
  },
  {
   "cell_type": "code",
   "execution_count": 134,
   "metadata": {},
   "outputs": [
    {
     "name": "stdout",
     "output_type": "stream",
     "text": [
      "0              customer called shop\n",
      "1            customer is frustrated\n",
      "2          customer is very excited\n",
      "3                customer went away\n",
      "4    customer feedback is important\n",
      "Name: Output, dtype: object\n"
     ]
    }
   ],
   "source": [
    "print(data['Output'])"
   ]
  },
  {
   "cell_type": "code",
   "execution_count": 135,
   "metadata": {},
   "outputs": [
    {
     "data": {
      "text/html": [
       "<div>\n",
       "<style scoped>\n",
       "    .dataframe tbody tr th:only-of-type {\n",
       "        vertical-align: middle;\n",
       "    }\n",
       "\n",
       "    .dataframe tbody tr th {\n",
       "        vertical-align: top;\n",
       "    }\n",
       "\n",
       "    .dataframe thead th {\n",
       "        text-align: right;\n",
       "    }\n",
       "</style>\n",
       "<table border=\"1\" class=\"dataframe\">\n",
       "  <thead>\n",
       "    <tr style=\"text-align: right;\">\n",
       "      <th></th>\n",
       "      <th>Word</th>\n",
       "      <th>Replace</th>\n",
       "      <th>Unnamed: 2</th>\n",
       "      <th>Remarks</th>\n",
       "      <th>Output</th>\n",
       "    </tr>\n",
       "  </thead>\n",
       "  <tbody>\n",
       "    <tr>\n",
       "      <th>0</th>\n",
       "      <td>cxt</td>\n",
       "      <td>customer</td>\n",
       "      <td>NaN</td>\n",
       "      <td>cust called shop</td>\n",
       "      <td>customer called shop</td>\n",
       "    </tr>\n",
       "    <tr>\n",
       "      <th>1</th>\n",
       "      <td>cust</td>\n",
       "      <td>customer</td>\n",
       "      <td>NaN</td>\n",
       "      <td>cxt is frustrated</td>\n",
       "      <td>customer is frustrated</td>\n",
       "    </tr>\n",
       "    <tr>\n",
       "      <th>2</th>\n",
       "      <td>client</td>\n",
       "      <td>customer</td>\n",
       "      <td>NaN</td>\n",
       "      <td>client is very excited</td>\n",
       "      <td>customer is very excited</td>\n",
       "    </tr>\n",
       "    <tr>\n",
       "      <th>3</th>\n",
       "      <td>customers</td>\n",
       "      <td>customer</td>\n",
       "      <td>NaN</td>\n",
       "      <td>customers went away</td>\n",
       "      <td>customer went away</td>\n",
       "    </tr>\n",
       "    <tr>\n",
       "      <th>4</th>\n",
       "      <td>custs</td>\n",
       "      <td>customer</td>\n",
       "      <td>NaN</td>\n",
       "      <td>custs feedback is important</td>\n",
       "      <td>customer feedback is important</td>\n",
       "    </tr>\n",
       "  </tbody>\n",
       "</table>\n",
       "</div>"
      ],
      "text/plain": [
       "        Word   Replace  Unnamed: 2                      Remarks  \\\n",
       "0        cxt  customer         NaN             cust called shop   \n",
       "1       cust  customer         NaN            cxt is frustrated   \n",
       "2     client  customer         NaN       client is very excited   \n",
       "3  customers  customer         NaN          customers went away   \n",
       "4      custs  customer         NaN  custs feedback is important   \n",
       "\n",
       "                           Output  \n",
       "0            customer called shop  \n",
       "1          customer is frustrated  \n",
       "2        customer is very excited  \n",
       "3              customer went away  \n",
       "4  customer feedback is important  "
      ]
     },
     "execution_count": 135,
     "metadata": {},
     "output_type": "execute_result"
    }
   ],
   "source": [
    "data"
   ]
  },
  {
   "cell_type": "code",
   "execution_count": 136,
   "metadata": {},
   "outputs": [],
   "source": [
    "writer=pd.ExcelWriter(\"C:\\\\Mathan\\\\Data Science\\\\NLP_Output.xls\",engine='xlsxwriter')"
   ]
  },
  {
   "cell_type": "code",
   "execution_count": 137,
   "metadata": {},
   "outputs": [],
   "source": [
    "data.to_excel(writer,sheet_name=\"NLP\",startrow=6)"
   ]
  },
  {
   "cell_type": "code",
   "execution_count": 138,
   "metadata": {},
   "outputs": [],
   "source": [
    "writer.save()"
   ]
  },
  {
   "cell_type": "code",
   "execution_count": null,
   "metadata": {},
   "outputs": [],
   "source": []
  }
 ],
 "metadata": {
  "kernelspec": {
   "display_name": "Python 3",
   "language": "python",
   "name": "python3"
  },
  "language_info": {
   "codemirror_mode": {
    "name": "ipython",
    "version": 3
   },
   "file_extension": ".py",
   "mimetype": "text/x-python",
   "name": "python",
   "nbconvert_exporter": "python",
   "pygments_lexer": "ipython3",
   "version": "3.7.3"
  }
 },
 "nbformat": 4,
 "nbformat_minor": 2
}
